{
 "cells": [
  {
   "cell_type": "markdown",
   "metadata": {},
   "source": [
    "# Pré-processamento dos Dados\n",
    "\n",
    "## 1. Criação do data set "
   ]
  },
  {
   "cell_type": "code",
   "execution_count": 1,
   "metadata": {},
   "outputs": [
    {
     "name": "stderr",
     "output_type": "stream",
     "text": [
      "/Users/jeanmarioml/opt/anaconda3/lib/python3.7/importlib/_bootstrap.py:219: RuntimeWarning: numpy.ufunc size changed, may indicate binary incompatibility. Expected 192 from C header, got 216 from PyObject\n",
      "  return f(*args, **kwds)\n",
      "/Users/jeanmarioml/opt/anaconda3/lib/python3.7/importlib/_bootstrap.py:219: RuntimeWarning: numpy.ufunc size changed, may indicate binary incompatibility. Expected 192 from C header, got 216 from PyObject\n",
      "  return f(*args, **kwds)\n"
     ]
    },
    {
     "data": {
      "text/html": [
       "<div>\n",
       "<style scoped>\n",
       "    .dataframe tbody tr th:only-of-type {\n",
       "        vertical-align: middle;\n",
       "    }\n",
       "\n",
       "    .dataframe tbody tr th {\n",
       "        vertical-align: top;\n",
       "    }\n",
       "\n",
       "    .dataframe thead th {\n",
       "        text-align: right;\n",
       "    }\n",
       "</style>\n",
       "<table border=\"1\" class=\"dataframe\">\n",
       "  <thead>\n",
       "    <tr style=\"text-align: right;\">\n",
       "      <th></th>\n",
       "      <th>Input Gas Rate</th>\n",
       "      <th>CO2 (%)</th>\n",
       "      <th>Input Gas Rate (-1)</th>\n",
       "      <th>Input Gas Rate (-2)</th>\n",
       "      <th>Input Gas Rate (-3)</th>\n",
       "      <th>Input Gas Rate (-4)</th>\n",
       "      <th>CO2 (%) (-1)</th>\n",
       "      <th>CO2 (%) (-2)</th>\n",
       "      <th>CO2 (%) (-3)</th>\n",
       "      <th>CO2 (%) (-4)</th>\n",
       "    </tr>\n",
       "  </thead>\n",
       "  <tbody>\n",
       "    <tr>\n",
       "      <td>0</td>\n",
       "      <td>-0.048627</td>\n",
       "      <td>0.090839</td>\n",
       "      <td>-0.048627</td>\n",
       "      <td>-0.048627</td>\n",
       "      <td>-0.048627</td>\n",
       "      <td>-0.048627</td>\n",
       "      <td>0.090839</td>\n",
       "      <td>0.090839</td>\n",
       "      <td>0.090839</td>\n",
       "      <td>0.090839</td>\n",
       "    </tr>\n",
       "    <tr>\n",
       "      <td>1</td>\n",
       "      <td>0.052979</td>\n",
       "      <td>0.028381</td>\n",
       "      <td>-0.048627</td>\n",
       "      <td>-0.048627</td>\n",
       "      <td>-0.048627</td>\n",
       "      <td>-0.048627</td>\n",
       "      <td>0.090839</td>\n",
       "      <td>0.090839</td>\n",
       "      <td>0.090839</td>\n",
       "      <td>0.090839</td>\n",
       "    </tr>\n",
       "    <tr>\n",
       "      <td>2</td>\n",
       "      <td>0.218906</td>\n",
       "      <td>-0.002849</td>\n",
       "      <td>0.052979</td>\n",
       "      <td>-0.048627</td>\n",
       "      <td>-0.048627</td>\n",
       "      <td>-0.048627</td>\n",
       "      <td>0.028381</td>\n",
       "      <td>0.090839</td>\n",
       "      <td>0.090839</td>\n",
       "      <td>0.090839</td>\n",
       "    </tr>\n",
       "  </tbody>\n",
       "</table>\n",
       "</div>"
      ],
      "text/plain": [
       "   Input Gas Rate   CO2 (%)  Input Gas Rate (-1)  Input Gas Rate (-2)  \\\n",
       "0       -0.048627  0.090839            -0.048627            -0.048627   \n",
       "1        0.052979  0.028381            -0.048627            -0.048627   \n",
       "2        0.218906 -0.002849             0.052979            -0.048627   \n",
       "\n",
       "   Input Gas Rate (-3)  Input Gas Rate (-4)  CO2 (%) (-1)  CO2 (%) (-2)  \\\n",
       "0            -0.048627            -0.048627      0.090839      0.090839   \n",
       "1            -0.048627            -0.048627      0.090839      0.090839   \n",
       "2            -0.048627            -0.048627      0.028381      0.090839   \n",
       "\n",
       "   CO2 (%) (-3)  CO2 (%) (-4)  \n",
       "0      0.090839      0.090839  \n",
       "1      0.090839      0.090839  \n",
       "2      0.090839      0.090839  "
      ]
     },
     "execution_count": 1,
     "metadata": {},
     "output_type": "execute_result"
    }
   ],
   "source": [
    "# libs\n",
    "import pandas as pd\n",
    "import numpy as np\n",
    "import matplotlib.pyplot as plt\n",
    "import warnings\n",
    "warnings.filterwarnings('ignore')\n",
    "\n",
    "# FUNCTIONS #\n",
    "\n",
    "#function to plot in and target data\n",
    "def plotData(data, names):\n",
    "    plt.figure()\n",
    "    n_graphs = len(data.T)\n",
    "    for i in range(n_graphs):\n",
    "        plt.subplot(n_graphs,1,i+1)\n",
    "        plt.plot(data[names[i]])\n",
    "        plt.ylabel(names[i])\n",
    "\n",
    "#function to scale the dataset\n",
    "def scaleData(data):\n",
    "    s_data = data.copy()\n",
    "    l = len(s_data.T)\n",
    "    for i in range(l):\n",
    "        s_data.iloc[:,i] = ((data.iloc[:,i] - data.iloc[:,i].min())\n",
    "                          / (data.iloc[:,i].max() - data.iloc[:,i].min()))\n",
    "    return s_data\n",
    "\n",
    "#function to standardize the dataset\n",
    "def standardizeData(data):\n",
    "    s_data = data.copy()\n",
    "    l = len(s_data.T)\n",
    "    for i in range(l):\n",
    "        s_data.iloc[:,i] = ((data.iloc[:,i] - data.iloc[:,i].mean())\n",
    "                          / data.iloc[:,i].std())\n",
    "    \n",
    "    return s_data\n",
    "\n",
    "def reStandData(data,y,n_inputs,n_outputs):\n",
    "    s_y = y.copy()\n",
    "    outs = data.iloc[:,n_inputs:n_inputs+n_outputs]\n",
    "    y_m = np.matrix(y)\n",
    "    l = len(outs.T)\n",
    "    for i in range(l):\n",
    "        s_y = y_m[i,:] * outs.iloc[:,i].std() + outs.iloc[:,i].mean()\n",
    "        \n",
    "    \n",
    "    return np.array(s_y)\n",
    "\n",
    "def plotOutputs(data, y, n_inputs, n_outputs):\n",
    "    outs = data.iloc[:,n_inputs:n_inputs+n_outputs]\n",
    "    plt.plot(outs.iloc[:,0],color=\"blue\") \n",
    "    plt.plot(y[0,:], color=\"red\")\n",
    "    plt.ylabel(outs.columns[0]), plt.xlabel('Sample');\n",
    "\n",
    "def addFeatures(data, n, names):\n",
    "    l = len(data.T)\n",
    "    for i in range(l):\n",
    "        for j in range(n):\n",
    "            #names for delayed inputs\n",
    "            #Ex: Input Gas Rate (-1)...\n",
    "            txt = names[i]+' (-'+str(j+1)+')'\n",
    "            if j == 0:\n",
    "                data[txt] = data[names[i]].shift(periods=1)\n",
    "            else:\n",
    "                txt2 = names[i]+' (-'+str(j)+')'\n",
    "                data[txt] = data[txt2].shift(periods=1)\n",
    "            \n",
    "            data.loc[0,txt] = data.loc[1,txt]\n",
    "            \n",
    "        \n",
    "    \n",
    "    return data\n",
    "            \n",
    "\n",
    "def getPairs(fData, n_inputs, n_outputs):\n",
    "    x = fData.iloc[:,0:n_inputs]\n",
    "    delayed_x = fData.iloc[:,n_outputs+1:]\n",
    "    X = pd.concat([x,delayed_x], axis=1)\n",
    "    y = fData.iloc[:,n_inputs:n_inputs+n_outputs]\n",
    "    return X,y\n",
    "\n",
    "    \n",
    "\n",
    "#path to access the dataset .txt or .csv\n",
    "path = '../Data/Online Prediction/Box-Jenkins_Gas-furnace.txt'\n",
    "\n",
    "#names of the input and target data\n",
    "names = ['Input Gas Rate', \n",
    "         'CO2 (%)']\n",
    "\n",
    "data = pd.read_csv(path, header=None, names=names)\n",
    "\n",
    "#it shows n=2 pairs input-target. Useful to test if dataset was successfully created\n",
    "#data.head(2)\n",
    "scaledData = scaleData(data)\n",
    "standardizedData = standardizeData(data)\n",
    "\n",
    "#plotData(scaledData,names)\n",
    "#plotData(standardizedData,names)\n",
    "\n",
    "delayed_order = 4\n",
    "\n",
    "featuredData = addFeatures(standardizedData,delayed_order,names)\n",
    "\n",
    "featuredData.head(3)\n",
    "    "
   ]
  },
  {
   "cell_type": "markdown",
   "metadata": {},
   "source": [
    "## Treinamento com ANN MLP"
   ]
  },
  {
   "cell_type": "code",
   "execution_count": 2,
   "metadata": {},
   "outputs": [
    {
     "data": {
      "image/png": "[encoded data removed]",
      "text/plain": [
       "<Figure size 432x288 with 1 Axes>"
      ]
     },
     "metadata": {
      "needs_background": "light"
     },
     "output_type": "display_data"
    }
   ],
   "source": [
    "# Train and estimate model performance\n",
    "from sklearn.model_selection import cross_val_predict\n",
    "# Import neural network for regression\n",
    "from sklearn.neural_network import MLPRegressor\n",
    "# Import function for cross-validation\n",
    "from sklearn.model_selection import cross_val_score\n",
    "\n",
    "# Define neural network architecture\n",
    "# Two hidden layers with three neurons each\n",
    "mlp = MLPRegressor(hidden_layer_sizes=(18))\n",
    "y_pred = cross_val_predict(mlp,\n",
    "                           featuredData[['Input Gas Rate', \n",
    "                                                     'Input Gas Rate (-1)', \n",
    "                                                     'Input Gas Rate (-2)',\n",
    "                                                     'Input Gas Rate (-3)', \n",
    "                                                     'CO2 (%) (-1)', \n",
    "                                                     'CO2 (%) (-2)', \n",
    "                                                     'CO2 (%) (-3)']],\n",
    "                           featuredData.iloc[:,1],\n",
    "                           cv=10)\n",
    "  \n",
    "\n",
    "\n",
    "# Rescale prediction\n",
    "y_pred = (y_pred\n",
    "          * data['CO2 (%)'].std()\n",
    "         + data['CO2 (%)'].mean())\n",
    "\n",
    "# Plot CO2 series\n",
    "plt.plot(data['CO2 (%)'], color='blue')\n",
    "plt.plot(y_pred, color='red')\n",
    "plt.ylabel('CO2 (%)'), plt.xlabel('Sample');\n",
    "\n",
    "\n",
    "    \n"
   ]
  },
  {
   "cell_type": "code",
   "execution_count": null,
   "metadata": {},
   "outputs": [],
   "source": []
  },
  {
   "cell_type": "code",
   "execution_count": 3,
   "metadata": {
    "scrolled": true
   },
   "outputs": [
    {
     "data": {
      "image/png": "[encoded data removed]",
      "text/plain": [
       "<Figure size 432x288 with 1 Axes>"
      ]
     },
     "metadata": {
      "needs_background": "light"
     },
     "output_type": "display_data"
    }
   ],
   "source": [
    "# Train and estimate model performance\n",
    "from sklearn.model_selection import cross_val_predict\n",
    "# Import neural network for regression\n",
    "from sklearn.neural_network import MLPRegressor\n",
    "# Import function for cross-validation\n",
    "from sklearn.model_selection import cross_val_score\n",
    "\n",
    "from sklearn.svm import SVR\n",
    "\n",
    "\n",
    "#number of inputs and outputs of the model\n",
    "n_inputs = 1\n",
    "n_outs = 1\n",
    "\n",
    "#net parameters\n",
    "n_neurons = 18\n",
    "cv = 10\n",
    "\n",
    "\n",
    "#pairs of data X (input) and y (target)\n",
    "X,y = getPairs(featuredData,n_inputs, n_outs)\n",
    "\n",
    "#mlp with 1 hidden layer and 18 neurons \n",
    "mlp = MLPRegressor(hidden_layer_sizes=(n_neurons))\n",
    "#y_pred = cross_val_predict(mlp,X,y,cv=cv)\n",
    "y_pred = cross_val_predict(SVR(),X,y,cv=cv)\n",
    "\n",
    "# Rescale prediction\n",
    "#y_pred = (y_pred\n",
    "#          * data['CO2 (%)'].std()\n",
    "#         + data['CO2 (%)'].mean())\n",
    "\n",
    "y_pred = reStandData(data,y_pred,1,1)\n",
    "\n",
    "# Plot CO2 series\n",
    "#plt.plot(data['CO2 (%)'], color='blue')\n",
    "#plt.plot(y_pred[0,:], color='red')\n",
    "#plt.ylabel('CO2 (%)'), plt.xlabel('Sample');\n",
    "\n",
    "plotOutputs(data,y_pred,1,1)\n"
   ]
  },
  {
   "cell_type": "code",
   "execution_count": 4,
   "metadata": {},
   "outputs": [
    {
     "data": {
      "text/html": [
       "<div>\n",
       "<style scoped>\n",
       "    .dataframe tbody tr th:only-of-type {\n",
       "        vertical-align: middle;\n",
       "    }\n",
       "\n",
       "    .dataframe tbody tr th {\n",
       "        vertical-align: top;\n",
       "    }\n",
       "\n",
       "    .dataframe thead th {\n",
       "        text-align: right;\n",
       "    }\n",
       "</style>\n",
       "<table border=\"1\" class=\"dataframe\">\n",
       "  <thead>\n",
       "    <tr style=\"text-align: right;\">\n",
       "      <th></th>\n",
       "      <th>CO2 (%)</th>\n",
       "    </tr>\n",
       "  </thead>\n",
       "  <tbody>\n",
       "    <tr>\n",
       "      <td>0</td>\n",
       "      <td>0.090839</td>\n",
       "    </tr>\n",
       "    <tr>\n",
       "      <td>1</td>\n",
       "      <td>0.028381</td>\n",
       "    </tr>\n",
       "    <tr>\n",
       "      <td>2</td>\n",
       "      <td>-0.002849</td>\n",
       "    </tr>\n",
       "    <tr>\n",
       "      <td>3</td>\n",
       "      <td>-0.002849</td>\n",
       "    </tr>\n",
       "    <tr>\n",
       "      <td>4</td>\n",
       "      <td>-0.034078</td>\n",
       "    </tr>\n",
       "    <tr>\n",
       "      <td>...</td>\n",
       "      <td>...</td>\n",
       "    </tr>\n",
       "    <tr>\n",
       "      <td>291</td>\n",
       "      <td>1.558617</td>\n",
       "    </tr>\n",
       "    <tr>\n",
       "      <td>292</td>\n",
       "      <td>1.496158</td>\n",
       "    </tr>\n",
       "    <tr>\n",
       "      <td>293</td>\n",
       "      <td>1.340011</td>\n",
       "    </tr>\n",
       "    <tr>\n",
       "      <td>294</td>\n",
       "      <td>1.183865</td>\n",
       "    </tr>\n",
       "    <tr>\n",
       "      <td>295</td>\n",
       "      <td>1.090177</td>\n",
       "    </tr>\n",
       "  </tbody>\n",
       "</table>\n",
       "<p>296 rows × 1 columns</p>\n",
       "</div>"
      ],
      "text/plain": [
       "      CO2 (%)\n",
       "0    0.090839\n",
       "1    0.028381\n",
       "2   -0.002849\n",
       "3   -0.002849\n",
       "4   -0.034078\n",
       "..        ...\n",
       "291  1.558617\n",
       "292  1.496158\n",
       "293  1.340011\n",
       "294  1.183865\n",
       "295  1.090177\n",
       "\n",
       "[296 rows x 1 columns]"
      ]
     },
     "execution_count": 4,
     "metadata": {},
     "output_type": "execute_result"
    }
   ],
   "source": [
    "y"
   ]
  },
  {
   "cell_type": "code",
   "execution_count": 15,
   "metadata": {},
   "outputs": [
    {
     "data": {
      "text/plain": [
       "0      53.8\n",
       "1      53.6\n",
       "2      53.5\n",
       "3      53.5\n",
       "4      53.4\n",
       "       ... \n",
       "291    58.5\n",
       "292    58.3\n",
       "293    57.8\n",
       "294    57.3\n",
       "295    57.0\n",
       "Name: CO2 (%), Length: 296, dtype: float64"
      ]
     },
     "execution_count": 15,
     "metadata": {},
     "output_type": "execute_result"
    }
   ],
   "source": [
    "outs.iloc[:,0]"
   ]
  },
  {
   "cell_type": "code",
   "execution_count": 18,
   "metadata": {},
   "outputs": [
    {
     "data": {
      "text/plain": [
       "'CO2 (%)'"
      ]
     },
     "execution_count": 18,
     "metadata": {},
     "output_type": "execute_result"
    }
   ],
   "source": [
    "outs.columns[0]"
   ]
  },
  {
   "cell_type": "code",
   "execution_count": null,
   "metadata": {},
   "outputs": [],
   "source": []
  }
 ],
 "metadata": {
  "kernelspec": {
   "display_name": "Python 3",
   "language": "python",
   "name": "python3"
  },
  "language_info": {
   "codemirror_mode": {
    "name": "ipython",
    "version": 3
   },
   "file_extension": ".py",
   "mimetype": "text/x-python",
   "name": "python",
   "nbconvert_exporter": "python",
   "pygments_lexer": "ipython3",
   "version": "3.7.4"
  }
 },
 "nbformat": 4,
 "nbformat_minor": 2
}
